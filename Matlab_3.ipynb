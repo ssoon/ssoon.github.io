{
  "nbformat": 4,
  "nbformat_minor": 0,
  "metadata": {
    "colab": {
      "name": "Matlab 3",
      "provenance": [],
      "authorship_tag": "ABX9TyM0lod3MoUlASqoWd9RYEEg",
      "include_colab_link": true
    },
    "kernelspec": {
      "name": "python3",
      "display_name": "Python 3"
    }
  },
  "cells": [
    {
      "cell_type": "markdown",
      "metadata": {
        "id": "view-in-github",
        "colab_type": "text"
      },
      "source": [
        "<a href=\"https://colab.research.google.com/github/ssoon/ssoon.github.io/blob/master/Matlab_3.ipynb\" target=\"_parent\"><img src=\"https://colab.research.google.com/assets/colab-badge.svg\" alt=\"Open In Colab\"/></a>"
      ]
    },
    {
      "cell_type": "markdown",
      "metadata": {
        "id": "Myu3kvhPnw5h",
        "colab_type": "text"
      },
      "source": [
        "#  Matlab 3\n",
        "# Sam Soon"
      ]
    },
    {
      "cell_type": "markdown",
      "metadata": {
        "id": "kErL_I4Kl3I-",
        "colab_type": "text"
      },
      "source": [
        "# Problem 1\n",
        "\n",
        "# Part a"
      ]
    },
    {
      "cell_type": "code",
      "metadata": {
        "id": "L_FIqeJThS5k",
        "colab_type": "code",
        "colab": {
          "base_uri": "https://localhost:8080/",
          "height": 364
        },
        "outputId": "d5e806c2-7737-4645-c7cb-caddeb51c61a"
      },
      "source": [
        "import scipy.linalg as sp\n",
        "import numpy as np\n",
        "import sympy as sy\n",
        "from numpy import linalg as LA\n",
        "import random\n",
        "import matplotlib.pyplot as plt\n",
        "\n",
        "#Create and print random 4x4 matrix\n",
        "A = sy.randMatrix(4, 4, -10, 10)\n",
        "print(\"A = \", A.as_immutable, \"\\n\")\n",
        "\n",
        "# Find characteristic polynomial of A by taking det(A - lambda)\n",
        "M = sy.eye(4)*sy.symbols('lambda')\n",
        "print(\"The characteristic polynomial of A is \", sy.det(A - M), \"\\n\")\n",
        "\n",
        "#Use QR decomposition to factor the matrix\n",
        "A_fact = A.QRdecomposition()\n",
        "print(\"Q = \", A_fact[0].as_immutable, \"\\n\")\n",
        "print(\"R = \", A_fact[1].as_immutable, \"\\n\")"
      ],
      "execution_count": 123,
      "outputs": [
        {
          "output_type": "stream",
          "text": [
            "A =  <bound method DenseMatrix.as_immutable of Matrix([\n",
            "[ 5, 10,  -5,  9],\n",
            "[ 2, -9,  -9, -3],\n",
            "[ 2, -3, -10, -4],\n",
            "[-6,  1,  10,  3]])> \n",
            "\n",
            "The characteristic polynomial of A is  lambda**4 + 11*lambda**3 + 13*lambda**2 + 668*lambda + 2769 \n",
            "\n",
            "Q =  <bound method DenseMatrix.as_immutable of Matrix([\n",
            "[ 5*sqrt(69)/69,  590*sqrt(881751)/881751,   -6460*sqrt(459456166)/689184249,  128*sqrt(35954)/53931],\n",
            "[ 2*sqrt(69)/69, -661*sqrt(881751)/881751,     523*sqrt(459456166)/689184249,  190*sqrt(35954)/53931],\n",
            "[ 2*sqrt(69)/69,   -19*sqrt(881751)/67827,    -1433*sqrt(459456166)/35342782,  -65*sqrt(35954)/35954],\n",
            "[-2*sqrt(69)/23,   63*sqrt(881751)/293917, -29047*sqrt(459456166)/1378368498, 275*sqrt(35954)/107862]])> \n",
            "\n",
            "R =  <bound method DenseMatrix.as_immutable of Matrix([\n",
            "[sqrt(69),  20*sqrt(69)/69,          -41*sqrt(69)/23,                 13*sqrt(69)/69],\n",
            "[       0, sqrt(881751)/69, 2453*sqrt(881751)/293917,       8848*sqrt(881751)/881751],\n",
            "[       0,               0,  3*sqrt(459456166)/12779, 5663*sqrt(459456166)/459456166],\n",
            "[       0,               0,                        0,          923*sqrt(35954)/35954]])> \n",
            "\n"
          ],
          "name": "stdout"
        }
      ]
    },
    {
      "cell_type": "markdown",
      "metadata": {
        "id": "bf7UDqBW1MVu",
        "colab_type": "text"
      },
      "source": [
        "# Part B\n"
      ]
    },
    {
      "cell_type": "code",
      "metadata": {
        "id": "x21ygCV91KBu",
        "colab_type": "code",
        "colab": {}
      },
      "source": [
        "# Compute characteristic polynomial using charpoly\n",
        "\n",
        "print(\"Characteristic polynomial: \", A.charpoly(), \"\\n\")\n",
        "\n",
        "#Find roots of polynomial, counting how many real roots there are\n",
        "r = sy.roots(A.charpoly())\n",
        "real_count = 0\n",
        "print(\"Roots: \\n\")\n",
        "for i in r:\n",
        "    print(i, \"\\n\")\n",
        "    if i.is_real:\n",
        "      real_count = real_count + 1\n",
        "print(\"Number of real eigenvalues: \", real_count, \"\\n\")\n"
      ],
      "execution_count": null,
      "outputs": []
    },
    {
      "cell_type": "markdown",
      "metadata": {
        "id": "6FYkRsNf3Mi8",
        "colab_type": "text"
      },
      "source": [
        "# Part C"
      ]
    },
    {
      "cell_type": "code",
      "metadata": {
        "id": "wzNRbn9o3UEO",
        "colab_type": "code",
        "colab": {}
      },
      "source": [
        "# Find eigenvalues \n",
        "B = A.T*A\n",
        "print(B.eigenvals(), \"\\n\")\n",
        "print(B.as_immutable)\n",
        "\n",
        "#print(B.eigenvects())"
      ],
      "execution_count": null,
      "outputs": []
    },
    {
      "cell_type": "markdown",
      "metadata": {
        "id": "Xy8S8_DYwC94",
        "colab_type": "text"
      },
      "source": [
        "# Part D"
      ]
    },
    {
      "cell_type": "code",
      "metadata": {
        "id": "0YPi2sHHwEd4",
        "colab_type": "code",
        "colab": {
          "base_uri": "https://localhost:8080/",
          "height": 363
        },
        "outputId": "197fe36e-2cb5-4249-9c25-46fa25a1bf99"
      },
      "source": [
        "#D = LA.eig(B)"
      ],
      "execution_count": 115,
      "outputs": [
        {
          "output_type": "error",
          "ename": "TypeError",
          "evalue": "ignored",
          "traceback": [
            "\u001b[0;31m---------------------------------------------------------------------------\u001b[0m",
            "\u001b[0;31mTypeError\u001b[0m                                 Traceback (most recent call last)",
            "\u001b[0;32m<ipython-input-115-34c938e3e69e>\u001b[0m in \u001b[0;36m<module>\u001b[0;34m()\u001b[0m\n\u001b[0;32m----> 1\u001b[0;31m \u001b[0mD\u001b[0m \u001b[0;34m=\u001b[0m \u001b[0mLA\u001b[0m\u001b[0;34m.\u001b[0m\u001b[0meig\u001b[0m\u001b[0;34m(\u001b[0m\u001b[0mB\u001b[0m\u001b[0;34m)\u001b[0m\u001b[0;34m\u001b[0m\u001b[0;34m\u001b[0m\u001b[0m\n\u001b[0m",
            "\u001b[0;32m<__array_function__ internals>\u001b[0m in \u001b[0;36meig\u001b[0;34m(*args, **kwargs)\u001b[0m\n",
            "\u001b[0;32m/usr/local/lib/python3.6/dist-packages/numpy/linalg/linalg.py\u001b[0m in \u001b[0;36meig\u001b[0;34m(a)\u001b[0m\n\u001b[1;32m   1293\u001b[0m     \u001b[0m_assert_stacked_2d\u001b[0m\u001b[0;34m(\u001b[0m\u001b[0ma\u001b[0m\u001b[0;34m)\u001b[0m\u001b[0;34m\u001b[0m\u001b[0;34m\u001b[0m\u001b[0m\n\u001b[1;32m   1294\u001b[0m     \u001b[0m_assert_stacked_square\u001b[0m\u001b[0;34m(\u001b[0m\u001b[0ma\u001b[0m\u001b[0;34m)\u001b[0m\u001b[0;34m\u001b[0m\u001b[0;34m\u001b[0m\u001b[0m\n\u001b[0;32m-> 1295\u001b[0;31m     \u001b[0m_assert_finite\u001b[0m\u001b[0;34m(\u001b[0m\u001b[0ma\u001b[0m\u001b[0;34m)\u001b[0m\u001b[0;34m\u001b[0m\u001b[0;34m\u001b[0m\u001b[0m\n\u001b[0m\u001b[1;32m   1296\u001b[0m     \u001b[0mt\u001b[0m\u001b[0;34m,\u001b[0m \u001b[0mresult_t\u001b[0m \u001b[0;34m=\u001b[0m \u001b[0m_commonType\u001b[0m\u001b[0;34m(\u001b[0m\u001b[0ma\u001b[0m\u001b[0;34m)\u001b[0m\u001b[0;34m\u001b[0m\u001b[0;34m\u001b[0m\u001b[0m\n\u001b[1;32m   1297\u001b[0m \u001b[0;34m\u001b[0m\u001b[0m\n",
            "\u001b[0;32m/usr/local/lib/python3.6/dist-packages/numpy/linalg/linalg.py\u001b[0m in \u001b[0;36m_assert_finite\u001b[0;34m(*arrays)\u001b[0m\n\u001b[1;32m    215\u001b[0m \u001b[0;32mdef\u001b[0m \u001b[0m_assert_finite\u001b[0m\u001b[0;34m(\u001b[0m\u001b[0;34m*\u001b[0m\u001b[0marrays\u001b[0m\u001b[0;34m)\u001b[0m\u001b[0;34m:\u001b[0m\u001b[0;34m\u001b[0m\u001b[0;34m\u001b[0m\u001b[0m\n\u001b[1;32m    216\u001b[0m     \u001b[0;32mfor\u001b[0m \u001b[0ma\u001b[0m \u001b[0;32min\u001b[0m \u001b[0marrays\u001b[0m\u001b[0;34m:\u001b[0m\u001b[0;34m\u001b[0m\u001b[0;34m\u001b[0m\u001b[0m\n\u001b[0;32m--> 217\u001b[0;31m         \u001b[0;32mif\u001b[0m \u001b[0;32mnot\u001b[0m \u001b[0misfinite\u001b[0m\u001b[0;34m(\u001b[0m\u001b[0ma\u001b[0m\u001b[0;34m)\u001b[0m\u001b[0;34m.\u001b[0m\u001b[0mall\u001b[0m\u001b[0;34m(\u001b[0m\u001b[0;34m)\u001b[0m\u001b[0;34m:\u001b[0m\u001b[0;34m\u001b[0m\u001b[0;34m\u001b[0m\u001b[0m\n\u001b[0m\u001b[1;32m    218\u001b[0m             \u001b[0;32mraise\u001b[0m \u001b[0mLinAlgError\u001b[0m\u001b[0;34m(\u001b[0m\u001b[0;34m\"Array must not contain infs or NaNs\"\u001b[0m\u001b[0;34m)\u001b[0m\u001b[0;34m\u001b[0m\u001b[0;34m\u001b[0m\u001b[0m\n\u001b[1;32m    219\u001b[0m \u001b[0;34m\u001b[0m\u001b[0m\n",
            "\u001b[0;31mTypeError\u001b[0m: ufunc 'isfinite' not supported for the input types, and the inputs could not be safely coerced to any supported types according to the casting rule ''safe''"
          ]
        }
      ]
    },
    {
      "cell_type": "markdown",
      "metadata": {
        "id": "67e89o9v2N6P",
        "colab_type": "text"
      },
      "source": [
        "# Problem 2\n",
        "\n",
        "# Part A\n",
        "\n",
        "The populations of adults and juveniles can be expressed by the following system of equations, where on average an adult births 1.6 juveniles per year, and 30% of juveniles survive, and 80% of adults survive:\n",
        "\n",
        "$j_{k + 1} = 1.6a_k$\n",
        "\n",
        "$a_{k + 1} = 0.3j_k + 0.8a_k$\n",
        "\n",
        "This can be expressed as the following matrix:\n",
        "\n",
        "$A = \n",
        "\\begin{bmatrix}\n",
        "0 & 1.6\\\\\n",
        "0.3 & 0.8\\\\\n",
        "\\end{bmatrix}\n",
        "$\n",
        "\n",
        "# Part B\n",
        "\n",
        "The characteristic equation of A is:\n",
        "\n",
        "$ (0 - \\lambda)(0.8-\\lambda) - 0.3*1.6$\n",
        "\n",
        "$ = \\lambda^2 - 0.8\\lambda - .48$\n",
        "\n",
        "The zeroes/eigenvalues for this equation are 1.2 and -0.4. We can now rewrite $x_0$ as $c_1v_1 + c_2v_2$\n",
        "\n",
        "$x_k = Ax_0 = c_1(1.2^k)v_1 + c_2(-0.4^k)v_2$\n",
        "\n",
        "As $k \\rightarrow \\infty$, $c_2(-0.4^k)v_2 \\rightarrow 0$, leaving us with:\n",
        "\n",
        "$x_k = Ax_0 = c_1(1.2^k)v_1$ as $k \\rightarrow \\infty$\n",
        "\n",
        "Therefore, the population is growing, and will eventually grow by 1.2x every year. To find the eventual juvenile to adult ratio, we will find the eigenvector of the dominant eigenvalue:\n",
        "\n",
        "$(A - 1.2I)\n",
        "\\begin{bmatrix}\n",
        "x\\\\\n",
        "y\\\\\n",
        "\\end{bmatrix} = 0$\n",
        "\n",
        "$r_1: -1.2x + 1.6y = 0$\n",
        "\n",
        "$r_2: 0.3x - 0.4y = 0$\n",
        "\n",
        "$r_1 \\rightarrow r_1 + 4r_2$\n",
        "\n",
        "$r_1: 0$\n",
        "\n",
        "$r_2: 0.3x -0.4y = 0$\n",
        "\n",
        "$0.3x = 0.4y$\n",
        "\n",
        "$v = \\begin{bmatrix}\n",
        "4\\\\\n",
        "3\\\\\n",
        "\\end{bmatrix}$\n",
        "\n",
        "Therefore, the eventual juvenile to adult ratio is 4:3.\n",
        "\n",
        "# Part D\n"
      ]
    },
    {
      "cell_type": "code",
      "metadata": {
        "id": "t5VhyCZKJrZH",
        "colab_type": "code",
        "colab": {
          "base_uri": "https://localhost:8080/",
          "height": 1087
        },
        "outputId": "240d699d-7791-4c1d-8931-36da0897dc5a"
      },
      "source": [
        "#function that finds the juvenile and adult populations for the first n years\n",
        "def pop_func(n, j, a):\n",
        "  if n==0:\n",
        "    return j, a\n",
        "  else:\n",
        "    j_1 = 1.6*a[-1]\n",
        "    a_1 = 0.3*j[-1] + 0.8*a[-1]\n",
        "    j.append(j_1)\n",
        "    a.append(a_1)\n",
        "    return pop_func(n-1, j, a)\n",
        "\n",
        "#Get juvenile/adult populations for the first 8 years, then make lists needed for each plot\n",
        "results = pop_func(8, [15], [10])\n",
        "j_pop = results[0]\n",
        "a_pop = results[1]\n",
        "total_pop = np.add(j_pop, a_pop)\n",
        "ratio = np.divide(j_pop, a_pop)\n",
        "\n",
        "#plot each list\n",
        "plt.plot(j_pop, 'ro')\n",
        "plt.xlabel('Year')\n",
        "plt.ylabel('Juvenile Population')\n",
        "plt.title('Juvenile Population over Time')\n",
        "plt.show()\n",
        "\n",
        "plt.plot(a_pop, 'ro')\n",
        "plt.ylabel('Adult Population')\n",
        "plt.title('Adult Population over Time')\n",
        "plt.show()\n",
        "\n",
        "plt.plot(total_pop, 'ro')\n",
        "plt.ylabel('Population')\n",
        "plt.title('Population over Time')\n",
        "plt.show()\n",
        "\n",
        "plt.plot(ratio, 'ro')\n",
        "plt.ylabel('Juvenile-Adult Ratio')\n",
        "plt.title('Juvenile-Adult Ratio over Time')\n",
        "plt.show()"
      ],
      "execution_count": 121,
      "outputs": [
        {
          "output_type": "display_data",
          "data": {
            "image/png": "[encoded data removed]",
            "text/plain": [
              "<Figure size 432x288 with 1 Axes>"
            ]
          },
          "metadata": {
            "tags": [],
            "needs_background": "light"
          }
        },
        {
          "output_type": "display_data",
          "data": {
            "image/png": "[encoded data removed]",
            "text/plain": [
              "<Figure size 432x288 with 1 Axes>"
            ]
          },
          "metadata": {
            "tags": [],
            "needs_background": "light"
          }
        },
        {
          "output_type": "display_data",
          "data": {
            "image/png": "[encoded data removed]",
            "text/plain": [
              "<Figure size 432x288 with 1 Axes>"
            ]
          },
          "metadata": {
            "tags": [],
            "needs_background": "light"
          }
        },
        {
          "output_type": "display_data",
          "data": {
            "image/png": "[encoded data removed]",
            "text/plain": [
              "<Figure size 432x288 with 1 Axes>"
            ]
          },
          "metadata": {
            "tags": [],
            "needs_background": "light"
          }
        }
      ]
    },
    {
      "cell_type": "markdown",
      "metadata": {
        "id": "lIvVxXEdODZh",
        "colab_type": "text"
      },
      "source": [
        "The juvenile-adult ratio seems to stabilize around year 3."
      ]
    }
  ]
}