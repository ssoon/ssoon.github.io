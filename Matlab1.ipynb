{
  "nbformat": 4,
  "nbformat_minor": 0,
  "metadata": {
    "colab": {
      "name": "Matlab1",
      "provenance": [],
      "toc_visible": true,
      "authorship_tag": "ABX9TyMz1/jXxT7VobwnyV1m5Epb",
      "include_colab_link": true
    },
    "kernelspec": {
      "name": "python3",
      "display_name": "Python 3"
    }
  },
  "cells": [
    {
      "cell_type": "markdown",
      "metadata": {
        "id": "view-in-github",
        "colab_type": "text"
      },
      "source": [
        "<a href=\"https://colab.research.google.com/github/ssoon/ssoon.github.io/blob/master/Matlab1.ipynb\" target=\"_parent\"><img src=\"https://colab.research.google.com/assets/colab-badge.svg\" alt=\"Open In Colab\"/></a>"
      ]
    },
    {
      "cell_type": "markdown",
      "metadata": {
        "id": "8kRCNdGVLzsq",
        "colab_type": "text"
      },
      "source": [
        "# Problem 1"
      ]
    },
    {
      "cell_type": "code",
      "metadata": {
        "id": "aE09WZav0puv",
        "colab_type": "code",
        "colab": {
          "base_uri": "https://localhost:8080/",
          "height": 87
        },
        "outputId": "9943ee85-920c-4a2b-c9ba-6201055ba152"
      },
      "source": [
        "import sympy as sy\n",
        " \n",
        "\n",
        "\n",
        "#1a\n",
        "augm = sy.Matrix([[0, 2, -3, -3], [-4, 0, 2, -1], [2, 3, -1, 2]])\n",
        "\n",
        "def printm():\n",
        "  print(augm.as_mutable)\n",
        "\n",
        "\n",
        "printm()\n",
        "\n",
        "\n"
      ],
      "execution_count": 7,
      "outputs": [
        {
          "output_type": "stream",
          "text": [
            "<bound method MutableDenseMatrix.as_mutable of Matrix([\n",
            "[ 0, 2, -3, -3],\n",
            "[-4, 0,  2, -1],\n",
            "[ 2, 3, -1,  2]])>\n"
          ],
          "name": "stdout"
        }
      ]
    },
    {
      "cell_type": "code",
      "metadata": {
        "id": "fvjLoF1b0w7r",
        "colab_type": "code",
        "colab": {
          "base_uri": "https://localhost:8080/",
          "height": 225
        },
        "outputId": "991ca6a3-2868-4752-dfa8-2406f98df396"
      },
      "source": [
        "#1b\n",
        "def swap(a, b):\n",
        "  return augm.elementary_row_op(op='n<->m', row1 = a, row2 = b)\n",
        "\n",
        "def scale(a, m):\n",
        "  return augm.elementary_row_op(op='n->kn', row=a, k = m)\n",
        "\n",
        "def sum(a, b, m):\n",
        "  return augm.elementary_row_op(op='n->n+km', row1 = a, row2 = b, k = m)\n",
        "\n",
        "\n",
        "augm = swap(0,1)\n",
        "printm()\n",
        "augm = sum(2, 0, .5)\n",
        "printm()\n",
        "augm = sum(2, 1, -1.5)\n",
        "printm()"
      ],
      "execution_count": 8,
      "outputs": [
        {
          "output_type": "stream",
          "text": [
            "<bound method MutableDenseMatrix.as_mutable of Matrix([\n",
            "[-4, 0,  2, -1],\n",
            "[ 0, 2, -3, -3],\n",
            "[ 2, 3, -1,  2]])>\n",
            "<bound method MutableDenseMatrix.as_mutable of Matrix([\n",
            "[-4, 0,  2,  -1],\n",
            "[ 0, 2, -3,  -3],\n",
            "[ 0, 3,  0, 1.5]])>\n",
            "<bound method MutableDenseMatrix.as_mutable of Matrix([\n",
            "[-4, 0,   2,  -1],\n",
            "[ 0, 2,  -3,  -3],\n",
            "[ 0, 0, 4.5, 6.0]])>\n"
          ],
          "name": "stdout"
        }
      ]
    },
    {
      "cell_type": "code",
      "metadata": {
        "id": "V9dZChvTL7ls",
        "colab_type": "code",
        "colab": {
          "base_uri": "https://localhost:8080/",
          "height": 225
        },
        "outputId": "020a41b6-be9e-4a2b-c2e1-ebb5b5442465"
      },
      "source": [
        "#1c\n",
        "\n",
        "augm = scale(2, 1/4.5)\n",
        "printm()\n",
        "augm = sum(1, 2, 3)\n",
        "augm = sum(0, 2, -2)\n",
        "printm()\n",
        "augm = scale(1, 0.5)\n",
        "augm = scale(0, -0.25)\n",
        "printm()"
      ],
      "execution_count": 9,
      "outputs": [
        {
          "output_type": "stream",
          "text": [
            "<bound method MutableDenseMatrix.as_mutable of Matrix([\n",
            "[-4, 0,   2,               -1],\n",
            "[ 0, 2,  -3,               -3],\n",
            "[ 0, 0, 1.0, 1.33333333333333]])>\n",
            "<bound method MutableDenseMatrix.as_mutable of Matrix([\n",
            "[-4, 0,   0, -3.66666666666667],\n",
            "[ 0, 2,   0,               1.0],\n",
            "[ 0, 0, 1.0,  1.33333333333333]])>\n",
            "<bound method MutableDenseMatrix.as_mutable of Matrix([\n",
            "[1.0,   0,   0, 0.916666666666667],\n",
            "[  0, 1.0,   0,               0.5],\n",
            "[  0,   0, 1.0,  1.33333333333333]])>\n"
          ],
          "name": "stdout"
        }
      ]
    },
    {
      "cell_type": "markdown",
      "metadata": {
        "id": "fjhaYZbTQari",
        "colab_type": "text"
      },
      "source": [
        "1d. \n",
        "\n",
        "x1 + 0.917*x4 = 0\n",
        "\n",
        "x2 + 0.5*x4 = 0\n",
        "\n",
        "x3 + 1.33*x4 = 0\n",
        "\n",
        "x4 is free\n",
        "\n",
        "x3 = -1.33*x4\n",
        "\n",
        "x2 = -0.5*x4\n",
        "\n",
        "x1 = -.917*x4\n",
        "\n"
      ]
    },
    {
      "cell_type": "markdown",
      "metadata": {
        "id": "77dRTNaMLuxt",
        "colab_type": "text"
      },
      "source": [
        "# Problem 2"
      ]
    },
    {
      "cell_type": "code",
      "metadata": {
        "id": "KEtgMahzR-zB",
        "colab_type": "code",
        "colab": {
          "base_uri": "https://localhost:8080/",
          "height": 87
        },
        "outputId": "b2e98574-51ef-4b31-e4a3-3542a96f4025"
      },
      "source": [
        "#2a\n",
        "import sympy as sy\n",
        "\n",
        "mat = sy.Matrix([[2, 0, 1], [3, 4, 0], [2, 1, 2]])\n",
        "print(mat.rref())\n"
      ],
      "execution_count": 10,
      "outputs": [
        {
          "output_type": "stream",
          "text": [
            "(Matrix([\n",
            "[1, 0, 0],\n",
            "[0, 1, 0],\n",
            "[0, 0, 1]]), (0, 1, 2))\n"
          ],
          "name": "stdout"
        }
      ]
    },
    {
      "cell_type": "markdown",
      "metadata": {
        "id": "unpOm2S7HiND",
        "colab_type": "text"
      },
      "source": [
        "2b.\n",
        "\n",
        "This calculation is efficient because it shows that when the augmented matrix {v2, v3, v1} is independent, since Ax = 0 has only the trivial solution in the case where all columns in A are pivot columns. Since {v2, v3, v1} is independent, v1 cannot be expressed as a combination of the other 2 vectors."
      ]
    },
    {
      "cell_type": "markdown",
      "metadata": {
        "id": "S7CZSQbQLDcK",
        "colab_type": "text"
      },
      "source": [
        "# Problem 3\n"
      ]
    },
    {
      "cell_type": "code",
      "metadata": {
        "id": "OyHA6KyYIxRi",
        "colab_type": "code",
        "colab": {
          "base_uri": "https://localhost:8080/",
          "height": 104
        },
        "outputId": "be4aae0a-2d7f-493f-f8f6-a0ebe623a262"
      },
      "source": [
        "#3a\n",
        "\n",
        "import sympy as sy\n",
        "\n",
        "matrixa = sy.Matrix([[1, -1, 1, 2, 3], [2, 2, -1, 2, -3], [3, 0, 1, -7, 1], [-2, 3, 1, 1, -2]])\n",
        "print(matrixa.as_mutable)"
      ],
      "execution_count": 11,
      "outputs": [
        {
          "output_type": "stream",
          "text": [
            "<bound method MutableDenseMatrix.as_mutable of Matrix([\n",
            "[ 1, -1,  1,  2,  3],\n",
            "[ 2,  2, -1,  2, -3],\n",
            "[ 3,  0,  1, -7,  1],\n",
            "[-2,  3,  1,  1, -2]])>\n"
          ],
          "name": "stdout"
        }
      ]
    },
    {
      "cell_type": "code",
      "metadata": {
        "id": "KX1fJ3WuSFQ-",
        "colab_type": "code",
        "colab": {
          "base_uri": "https://localhost:8080/",
          "height": 104
        },
        "outputId": "fe9a35b4-b2cd-4b09-a406-4185b92e057b"
      },
      "source": [
        "#3b\n",
        "\n",
        "print(matrixa.rref())\n"
      ],
      "execution_count": 12,
      "outputs": [
        {
          "output_type": "stream",
          "text": [
            "(Matrix([\n",
            "[1, 0, 0, 0,   31/178],\n",
            "[0, 1, 0, 0, -193/178],\n",
            "[0, 0, 1, 0,   130/89],\n",
            "[0, 0, 0, 1,   25/178]]), (0, 1, 2, 3))\n"
          ],
          "name": "stdout"
        }
      ]
    },
    {
      "cell_type": "markdown",
      "metadata": {
        "id": "bzRDAB5gVpMG",
        "colab_type": "text"
      },
      "source": [
        "3c.\n",
        "\n",
        "x5 = 1\n",
        "\n",
        "x4 = -25/178\n",
        "\n",
        "x3 = -130/89\n",
        "\n",
        "x2 = 193/178\n",
        "\n",
        "x1 = -31/178\n",
        "\n",
        "Since the set of vectors contains a nontrivial solution, we can conclude this it is linearly dependent."
      ]
    }
  ]
}